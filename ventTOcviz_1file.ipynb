{
 "metadata": {
  "name": "",
  "signature": "sha256:8d9922ea2d965eacb6efac2374a395d05a9f8b29d2199fe132975e39e430e3a7"
 },
 "nbformat": 3,
 "nbformat_minor": 0,
 "worksheets": [
  {
   "cells": [
    {
     "cell_type": "markdown",
     "metadata": {},
     "source": [
      "#GOAL:\n",
      "\n",
      "<i>convert raw data from RPi into format that can be uploaded into Chronoviz</i>\n",
      "\n",
      "<style type=\"text/css\">\n",
      ".tg  {border-collapse:collapse; border-spacing:0; font-size:x-small; padding:10px 5px; border=5px;}\n",
      ".tg2 {border:0px;}\n",
      "</style>\n",
      "\n",
      "<table border=\"3\" cellpadding=\"5\" class=\"tg\">\n",
      "  <tr>\n",
      "    <th class=\"tg-031e\">BS</th>\n",
      "    <th class=\"tg-031e\">S:259</th>\n",
      "  </tr>\n",
      "  <tr>\n",
      "    <td class=\"tg-031e\">0.1</td>\n",
      "    <td class=\"tg-031e\">-2.01</td>\n",
      "  </tr>\n",
      "  <tr>\n",
      "    <td class=\"tg-031e\">-0.13</td>\n",
      "    <td class=\"tg-031e\">-2.1</td>\n",
      "  </tr>\n",
      "  <tr>\n",
      "    <td class=\"tg-031e\">21.86</td>\n",
      "    <td class=\"tg-031e\">-1.57</td>\n",
      "  </tr>\n",
      "  <tr>\n",
      "    <td class=\"tg-031e\">63.02</td>\n",
      "    <td class=\"tg-031e\">0.46</td>\n",
      "  </tr>\n",
      "  <tr>\n",
      "    <td class=\"tg-031e\">80.03</td>\n",
      "    <td class=\"tg-031e\">3.68</td>\n",
      "  </tr>\n",
      "  <tr>\n",
      "    <td class=\"tg-031e\">89.35</td>\n",
      "    <td class=\"tg-031e\">7.05</td>\n",
      "  </tr>\n",
      "  <tr>\n",
      "    <td class=\"tg-031e\">95.63</td>\n",
      "    <td class=\"tg-031e\">10.48</td>\n",
      "  </tr>\n",
      "  <tr>\n",
      "    <td class=\"tg-031e\">92.11</td>\n",
      "    <td class=\"tg-031e\">13.54</td>\n",
      "  </tr>\n",
      "  <tr>\n",
      "    <td class=\"tg-031e\">...</td>\n",
      "    <td class=\"tg-031e\">...</td>\n",
      "  </tr>\n",
      "  <tr>\n",
      "    <td class=\"tg-031e\">0.92</td>\n",
      "    <td class=\"tg-031e\">0.08</td>\n",
      "  </tr>\n",
      "  <tr>\n",
      "    <td class=\"tg-031e\">0.96</td>\n",
      "    <td class=\"tg-031e\">0.1</td>\n",
      "  </tr>\n",
      "  <tr>\n",
      "    <td class=\"tg-031e\">BE</td>\n",
      "    <td class=\"tg-031e\">&nbsp;</td>\n",
      "  </tr>\n",
      "</table>\n",
      "<p>&nbsp;</p>\n",
      "<p>to</p>\n",
      "<table border=\"3\" class=\"tg\">\n",
      "  <tr>\n",
      "     <th class=\"tg-031e\">breath_number</th>\n",
      "     <th class=\"tg-xha5\">start/stop</th>\n",
      "     <th class=\"tg-031e\">time(sec)</th>\n",
      "     <th class=\"tg-031e\">flow</th>\n",
      "     <th class=\"tg-031e\">pressure</th>\n",
      "  </tr>\n",
      "   <tr>\n",
      "     <td class=\"tg-031e\">1</td>\n",
      "     <td class=\"tg-53ym\">BS</td>\n",
      "     <td class=\"tg-031e\">0</td>\n",
      "     <td class=\"tg-031e\">0.1</td>\n",
      "     <td class=\"tg-031e\">-2.01</td>\n",
      "   </tr>\n",
      "   <tr>\n",
      "     <td class=\"tg-031e\"></td>\n",
      "     <td class=\"tg-xha5\"></td>\n",
      "     <td class=\"tg-031e\">0.02</td>\n",
      "     <td class=\"tg-031e\">-0.13</td>\n",
      "     <td class=\"tg-031e\">-2.1</td>\n",
      "   </tr>\n",
      "   <tr>\n",
      "     <td class=\"tg-031e\"></td>\n",
      "     <td class=\"tg-xha5\"></td>\n",
      "     <td class=\"tg-031e\">0.04</td>\n",
      "     <td class=\"tg-031e\">21.86</td>\n",
      "     <td class=\"tg-031e\">-1.57</td>\n",
      "   </tr>\n",
      "   <tr>\n",
      "     <td class=\"tg-031e\"></td>\n",
      "     <td class=\"tg-xha5\"></td>\n",
      "     <td class=\"tg-031e\">0.06</td>\n",
      "     <td class=\"tg-031e\">63.02</td>\n",
      "     <td class=\"tg-031e\">0.46</td>\n",
      "   </tr>\n",
      "   <tr>\n",
      "     <td class=\"tg-031e\"></td>\n",
      "     <td class=\"tg-xha5\"></td>\n",
      "     <td class=\"tg-031e\">0.08</td>\n",
      "     <td class=\"tg-031e\">80.03</td>\n",
      "     <td class=\"tg-031e\">3.68</td>\n",
      "   </tr>\n",
      "   <tr>\n",
      "     <td class=\"tg-031e\"></td>\n",
      "     <td class=\"tg-xha5\"></td>\n",
      "     <td class=\"tg-031e\">0.1</td>\n",
      "     <td class=\"tg-031e\">89.35</td>\n",
      "     <td class=\"tg-031e\">7.05</td>\n",
      "   </tr>\n",
      "   <tr>\n",
      "     <td class=\"tg-031e\"></td>\n",
      "     <td class=\"tg-xha5\"></td>\n",
      "     <td class=\"tg-031e\">0.12</td>\n",
      "     <td class=\"tg-031e\">95.63</td>\n",
      "     <td class=\"tg-031e\">10.48</td>\n",
      "   </tr>\n",
      "   <tr>\n",
      "     <td class=\"tg-031e\"></td>\n",
      "     <td class=\"tg-xha5\"></td>\n",
      "     <td class=\"tg-031e\">0.14</td>\n",
      "     <td class=\"tg-031e\">92.11</td>\n",
      "     <td class=\"tg-031e\">13.54</td>\n",
      "   </tr>\n",
      "   <tr>\n",
      "     <td class=\"tg-031e\"></td>\n",
      "     <td class=\"tg-xha5\"></td>\n",
      "     <td class=\"tg-031e\">...</td>\n",
      "     <td class=\"tg-031e\">...</td>\n",
      "     <td class=\"tg-031e\">...</td>\n",
      "   </tr>\n",
      "   <tr>\n",
      "     <td class=\"tg-031e\"></td>\n",
      "     <td class=\"tg-xha5\"></td>\n",
      "     <td class=\"tg-031e\"><em>t</em></td>\n",
      "     <td class=\"tg-031e\">0.92</td>\n",
      "     <td class=\"tg-031e\">0.08</td>\n",
      "   </tr>\n",
      "   <tr>\n",
      "     <td class=\"tg-031e\"></td>\n",
      "     <td class=\"tg-0zof\">BE</td>\n",
      "     <td class=\"tg-031e\"><em>t-0.2</em></td>\n",
      "     <td class=\"tg-031e\">0.96</td>\n",
      "     <td class=\"tg-031e\">0.1</td>\n",
      "   </tr>\n",
      "</table>"
     ]
    },
    {
     "cell_type": "code",
     "collapsed": false,
     "input": [
      "from __future__ import division"
     ],
     "language": "python",
     "metadata": {},
     "outputs": [],
     "prompt_number": 1
    },
    {
     "cell_type": "markdown",
     "metadata": {},
     "source": [
      "#variables to be edited"
     ]
    },
    {
     "cell_type": "code",
     "collapsed": false,
     "input": [
      "INPUT_FILE='001_shortshort2.csv'\n",
      "OUTPUT_FILE='shortshort_edited.csv'\n",
      "wd=r'C:\\allMYfiles\\BOX\\my_sandbox\\from_start' #working directory\n",
      "sFreq=50     #depends on the ventilator"
     ],
     "language": "python",
     "metadata": {},
     "outputs": [],
     "prompt_number": 2
    },
    {
     "cell_type": "markdown",
     "metadata": {},
     "source": [
      "#change working directory"
     ]
    },
    {
     "cell_type": "code",
     "collapsed": false,
     "input": [
      "import os \n",
      "print(\"Current working directory is '\"+ os.getcwd()+\"'\")\n",
      "os.chdir(wd) ##also could use %cd\n",
      "print(\"Working directory changed to '\"+ os.getcwd()+\"'\")\n"
     ],
     "language": "python",
     "metadata": {},
     "outputs": [
      {
       "output_type": "stream",
       "stream": "stdout",
       "text": [
        "Current working directory is 'c:\\allMYfiles\\BOX\\my_sandbox\\from_start\\test_sub'\n",
        "Working directory changed to 'C:\\allMYfiles\\BOX\\my_sandbox\\from_start'\n"
       ]
      }
     ],
     "prompt_number": 3
    },
    {
     "cell_type": "markdown",
     "metadata": {},
     "source": [
      "#read csv file\n",
      "NOTE: The try/except is put on because there was a file in the collection from February 19th that was lacking a value in one of the columns and hence, would spit out an error here."
     ]
    },
    {
     "cell_type": "code",
     "collapsed": false,
     "input": [
      "import csv\n",
      "\n",
      "data=[]\n",
      "\n",
      "with open (INPUT_FILE, 'rU') as out:\n",
      "    sreader=csv.reader(out, delimiter=',')\n",
      "    for row in sreader:                    #copy the read to a new object\n",
      "        if row[0] in ['BS', 'BE']:         #if has strings, copy as is\n",
      "            data.append(row)\n",
      "        elif row[0] not in ['BS', 'BE']:   #if does not have strings, evaluate (string->value)\n",
      "            try:                \n",
      "                row[0]=eval(row[0])\n",
      "                row[1]=eval(row[1])\n",
      "            except:\n",
      "                pass\n",
      "            data.append(row)               #after evaluating, append to \"data\"\n"
     ],
     "language": "python",
     "metadata": {},
     "outputs": [],
     "prompt_number": 4
    },
    {
     "cell_type": "markdown",
     "metadata": {},
     "source": [
      "#add 3 extra columns to left\n",
      "These will be for\n",
      "\n",
      "* Breath Number\n",
      "* Breath Start/Stop\n",
      "* Time"
     ]
    },
    {
     "cell_type": "code",
     "collapsed": false,
     "input": [
      "for row in data:\n",
      "    row[0:0]=['','','']\n"
     ],
     "language": "python",
     "metadata": {},
     "outputs": [],
     "prompt_number": 5
    },
    {
     "cell_type": "markdown",
     "metadata": {},
     "source": [
      "#move breath markers and delete row\n",
      "* BS--will be copied one row down and one column to the left\n",
      "* BE--will be copied one row up and one column to the left\n",
      "\n",
      "after movement, the rows that previously contained BS and BE are deleted\n",
      "\n",
      "The script runs by copying from matrix M to N and deleting rows in M as it copies. When there are no more rows left in M, the script halts."
     ]
    },
    {
     "cell_type": "code",
     "collapsed": false,
     "input": [
      "def rearrange(M):\n",
      "    initial_length=len(M)\n",
      "    N=[]\n",
      "    rows_deleted=0\n",
      "    breathnumber=0\n",
      "    breath_count=0\n",
      "    print ('Original: '+str(len(M))+'-->Copied: '+str(len(N)))\n",
      "    while M!=[]:\n",
      "        if M[0][3]=='BS':\n",
      "            breathnumber=breathnumber+1\n",
      "            M[1][0]=str(breathnumber)\n",
      "            M[1][1]='BS'    \n",
      "            #del(M[0])\n",
      "            rows_deleted=rows_deleted+1; breath_count=breath_count+1\n",
      "        elif M[0][3]=='BE':\n",
      "            N[-1][1]='BE'\n",
      "            #del(M[0])\n",
      "            rows_deleted=rows_deleted+1; breath_count=breath_count+1\n",
      "        else:\n",
      "            N.append(M[0])\n",
      "        del(M[0])\n",
      "        #print ('Original: '+str(len(M))+'-->Copy: '+str(len(N)))\n",
      "    else:\n",
      "        print ('Original: '+str(len(M))+'-->Copied: '+str(len(N))+'\\n')\n",
      "        print (str(initial_length)+\" lines processed from original\")\n",
      "        print(\"Rows Deleted: \"+str(rows_deleted)+'\\n')\n",
      "        try:\n",
      "            print(\"Breath Count: \"+str(breath_count/2))        \n",
      "            print(\"Breath Count half of deleted rows? \"+str(rows_deleted%(breath_count/2)==0))\n",
      "        except:\n",
      "            print(\"***Already processed***\")\n",
      "            pass\n",
      "        return N\n"
     ],
     "language": "python",
     "metadata": {},
     "outputs": [],
     "prompt_number": 6
    },
    {
     "cell_type": "markdown",
     "metadata": {},
     "source": [
      "run the rearrange function on the data"
     ]
    },
    {
     "cell_type": "code",
     "collapsed": false,
     "input": [
      "data=rearrange(data)\n"
     ],
     "language": "python",
     "metadata": {},
     "outputs": [
      {
       "output_type": "stream",
       "stream": "stdout",
       "text": [
        "Original: 13-->Copied: 0\n",
        "Original: 0-->Copied: 11\n",
        "\n",
        "13 lines processed from original\n",
        "Rows Deleted: 2\n",
        "\n",
        "Breath Count: 1.0\n",
        "Breath Count half of deleted rows? True\n"
       ]
      }
     ],
     "prompt_number": 7
    },
    {
     "cell_type": "markdown",
     "metadata": {},
     "source": [
      "#add headers to table"
     ]
    },
    {
     "cell_type": "code",
     "collapsed": false,
     "input": [
      "data[0:0]=[['breath_number','start_stop','time(sec)','flow','pressure']]\n"
     ],
     "language": "python",
     "metadata": {},
     "outputs": [],
     "prompt_number": 8
    },
    {
     "cell_type": "markdown",
     "metadata": {},
     "source": [
      "#add time intervals in column 4"
     ]
    },
    {
     "cell_type": "markdown",
     "metadata": {},
     "source": [
      "These would need to be adjusted depending on the ventilator"
     ]
    },
    {
     "cell_type": "code",
     "collapsed": false,
     "input": [
      "sTime=1/sFreq"
     ],
     "language": "python",
     "metadata": {},
     "outputs": [],
     "prompt_number": 9
    },
    {
     "cell_type": "code",
     "collapsed": false,
     "input": [
      "time=0         #starts at 0\n",
      "for i in range(1,len(data)):\n",
      "    data[i][2]=str(time)\n",
      "    time=time+sTime"
     ],
     "language": "python",
     "metadata": {},
     "outputs": [],
     "prompt_number": 10
    },
    {
     "cell_type": "markdown",
     "metadata": {},
     "source": [
      "#write output CSV"
     ]
    },
    {
     "cell_type": "code",
     "collapsed": false,
     "input": [
      "with open(OUTPUT_FILE,'wb') as out2:\n",
      "    shortshort_write=csv.writer(out2, delimiter=',', quoting=csv.QUOTE_NONE)\n",
      "    for row in data:\n",
      "        shortshort_write.writerow(row)\n",
      "        \n",
      "print(\"file written\")"
     ],
     "language": "python",
     "metadata": {},
     "outputs": [
      {
       "output_type": "stream",
       "stream": "stdout",
       "text": [
        "file written\n"
       ]
      }
     ],
     "prompt_number": 11
    },
    {
     "cell_type": "heading",
     "level": 2,
     "metadata": {},
     "source": [
      "To visualize these data, use this"
     ]
    },
    {
     "cell_type": "code",
     "collapsed": false,
     "input": [
      "for row in data:\n",
      "    print(row)"
     ],
     "language": "python",
     "metadata": {},
     "outputs": [
      {
       "output_type": "stream",
       "stream": "stdout",
       "text": [
        "['breath_number', 'start_stop', 'time(sec)', 'flow', 'pressure']\n",
        "['1', 'BS', '0', 0.1, -2.01]\n",
        "['', '', '0.02', -0.13, -2.1]\n",
        "['', '', '0.04', 21.86, -1.57]\n",
        "['', '', '0.06', 63.02, 0.46]\n",
        "['', '', '0.08', 80.03, 3.68]\n",
        "['', '', '0.1', 89.35, 7.05]\n",
        "['', '', '0.12', 95.63, 10.48]\n",
        "['', '', '0.14', 92.11, 13.54]\n",
        "['', '', '0.16', 85.44, 14.57]\n",
        "['', '', '0.18', 0.92, 0.08]\n",
        "['', 'BE', '0.2', 0.96, 0.1]\n"
       ]
      }
     ],
     "prompt_number": 12
    }
   ],
   "metadata": {}
  }
 ]
}