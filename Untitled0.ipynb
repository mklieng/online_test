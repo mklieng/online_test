{
 "metadata": {
  "name": "untitled0.ipynb",
  "signature": "sha256:93b7437ceee137a13a154b65ddb54398c6f761932f6e6aac51f1e98615e378c7"
 },
 "nbformat": 3,
 "nbformat_minor": 0,
 "worksheets": [
  {
   "cells": [
    {
     "cell_type": "markdown",
     "metadata": {},
     "source": [
      "#this is the 3rd edit"
     ]
    },
    {
     "cell_type": "code",
     "collapsed": false,
     "input": [
      "from IPython.display import YouTubeVideo\n",
      "YouTubeVideo('MTx6ha6fRwo')"
     ],
     "language": "python",
     "metadata": {},
     "outputs": [
      {
       "html": [
        "\n",
        "        <iframe\n",
        "            width=\"400\"\n",
        "            height=300\"\n",
        "            src=\"https://www.youtube.com/embed/MTx6ha6fRwo\"\n",
        "            frameborder=\"0\"\n",
        "            allowfullscreen\n",
        "        ></iframe>\n",
        "        "
       ],
       "metadata": {},
       "output_type": "pyout",
       "prompt_number": 20,
       "text": [
        "<IPython.lib.display.YouTubeVideo at 0x3aa39b0>"
       ]
      }
     ],
     "prompt_number": 20
    },
    {
     "cell_type": "markdown",
     "metadata": {},
     "source": [
      "###<i>This is the second edit</i>!!!!"
     ]
    },
    {
     "cell_type": "markdown",
     "metadata": {},
     "source": [
      "\n",
      "\n",
      "This is H1\n",
      "=========\n",
      "#this is also a H1\n",
      "\n",
      "##this is H2\n",
      "\n",
      "this is H2\n",
      "-----\n",
      "i'm not sure but this is markdown text\n",
      "1+1=2\n",
      "\n",
      "- easy\n",
      "- bullets\n",
      "\n",
      "blah blah\n",
      "\n",
      "1. ordered\n",
      "2. list\n",
      "\n",
      "the # doesnt matter for the list\n",
      "\n",
      "1. sl\n",
      "1. still\n",
      "1. typing\n",
      "1. blah\n",
      "\n",
      "<b>5</b>\n",
      "<img src=\"http://nbviewer.ipython.org/github/ipython/ipython/blob/2.x/examples/Notebook/images/python-logo.svg/\">\n",
      "<img src=\"files/FFT.tif\"/>\n",
      "\n",
      "<video control src=\"https://www.youtube.com/watch?v=HaS4NXxL5Qc\"/>"
     ]
    },
    {
     "cell_type": "code",
     "collapsed": false,
     "input": [
      "from IPython.display import HTML\n",
      "HTML('<iframe src=http://randomibis.com/coolclock/justclock.html width=340 height=340></iframe>')"
     ],
     "language": "python",
     "metadata": {},
     "outputs": [
      {
       "html": [
        "<iframe src=http://randomibis.com/coolclock/justclock.html width=340 height=340></iframe>"
       ],
       "metadata": {},
       "output_type": "pyout",
       "prompt_number": 22,
       "text": [
        "<IPython.core.display.HTML at 0x36d7470>"
       ]
      }
     ],
     "prompt_number": 22
    },
    {
     "cell_type": "heading",
     "level": 1,
     "metadata": {},
     "source": [
      "this is a heading"
     ]
    },
    {
     "cell_type": "code",
     "collapsed": false,
     "input": [
      "?\n",
      "range?"
     ],
     "language": "python",
     "metadata": {},
     "outputs": [],
     "prompt_number": 8
    },
    {
     "cell_type": "code",
     "collapsed": false,
     "input": [
      "print(1+1)\n",
      "3*4"
     ],
     "language": "python",
     "metadata": {},
     "outputs": [
      {
       "output_type": "stream",
       "stream": "stdout",
       "text": [
        "2\n"
       ]
      },
      {
       "metadata": {},
       "output_type": "pyout",
       "prompt_number": 2,
       "text": [
        "12"
       ]
      }
     ],
     "prompt_number": 2
    },
    {
     "cell_type": "markdown",
     "metadata": {},
     "source": [
      "http://www.mpia.de/~robitaille/py4sci/10.%20Using%20the%20IPython%20notebook.html \n",
      "\n",
      "Latex <a>google.com</a>\n",
      "http://en.wikibooks.org/wiki/LaTeX/Mathematics"
     ]
    },
    {
     "cell_type": "code",
     "collapsed": false,
     "input": [
      "#change the working directory\n",
      "import os\n",
      "print(\"Current working directory is '\"+ os.getcwd()+\"'\")\n",
      "wd=r'C:\\allMYfiles\\BOX\\my_sandbox\\from_start'\n",
      "os.chdir(wd) ##also could use %cd\n",
      "print(\"Working directory changed to '\"+ os.getcwd()+\"'\")\n"
     ],
     "language": "python",
     "metadata": {},
     "outputs": [
      {
       "output_type": "stream",
       "stream": "stdout",
       "text": [
        "Current working directory is 'c:\\allmyfiles\\box\\my_sandbox\\learn_ipynb'\n",
        "Working directory changed to 'C:\\allMYfiles\\BOX\\my_sandbox\\from_start'\n"
       ]
      }
     ],
     "prompt_number": 11
    },
    {
     "cell_type": "code",
     "collapsed": false,
     "input": [
      "#import CSV\n",
      "import csv\n",
      "data=[]\n",
      "print(data)\n",
      "\n",
      "with open ('001_shortshort2.csv') as out2:\n",
      "\tsreader=csv.reader(out2, delimiter=',',  quotechar='|')\n",
      "\tfor row in sreader:\n",
      "\t\tif row[0] in ['BS', 'BE']:\n",
      "\t\t\tdata.append(row)\n",
      "\t\telif row[0] not in ['BS', 'BE']:\n",
      "\t\t\trow[0]=eval(row[0])\n",
      "\t\t\trow[1]=eval(row[1])\n",
      "\t\t\tdata.append(row)\n",
      "print(data)\n",
      "print(len(data))#print \"\\n\".join (map (lambda (2, 13): \"%s\\t%s\" % (\"\\t\".join (2), 13), data) )\n",
      "for row in data:\n",
      "    print(row)"
     ],
     "language": "python",
     "metadata": {},
     "outputs": [
      {
       "output_type": "stream",
       "stream": "stdout",
       "text": [
        "[]\n",
        "[['BS', ' S:259'], [0.1, -2.01], [-0.13, -2.1], [21.86, -1.57], [63.02, 0.46], [80.03, 3.68], [89.35, 7.05], [95.63, 10.48], [92.11, 13.54], [85.44, 14.57], [83.08, 15.62], [83.04, 16.09], ['BE', '']]\n",
        "13\n",
        "['BS', ' S:259']\n",
        "[0.1, -2.01]\n",
        "[-0.13, -2.1]\n",
        "[21.86, -1.57]\n",
        "[63.02, 0.46]\n",
        "[80.03, 3.68]\n",
        "[89.35, 7.05]\n",
        "[95.63, 10.48]\n",
        "[92.11, 13.54]\n",
        "[85.44, 14.57]\n",
        "[83.08, 15.62]\n",
        "[83.04, 16.09]\n",
        "['BE', '']\n"
       ]
      }
     ],
     "prompt_number": 15
    },
    {
     "cell_type": "markdown",
     "metadata": {},
     "source": [
      "#make deep copy\t\n",
      "addC=[]\n",
      "for row in data:\n",
      "\taddC.append(row[:])\n",
      "\n",
      "print(addC)"
     ]
    },
    {
     "cell_type": "code",
     "collapsed": false,
     "input": [
      "import turtle\n",
      "\n",
      "def drawMulticolorSquare(t, sz):\n",
      "    \"\"\"Make turtle t draw a multi-colour square of sz.\"\"\"\n",
      "    for i in ['red','purple','hotpink','blue']:\n",
      "        t.color(i)\n",
      "        t.forward(sz)\n",
      "        t.left(90)\n",
      "\n",
      "wn = turtle.Screen()             # Set up the window and its attributes\n",
      "wn.bgcolor(\"lightgreen\")\n",
      "\n",
      "\n",
      "\n",
      "tess = turtle.Turtle()           # create tess and set some attributes\n",
      "tess.pensize(3)\n",
      "\n",
      "size = 20                        # size of the smallest square\n",
      "for i in range(15):\n",
      "    drawMulticolorSquare(tess, size)\n",
      "    size = size + 10             # increase the size for next time\n",
      "    tess.forward(10)             # move tess along a little\n",
      "    tess.right(18)               # and give her some extra turn\n"
     ],
     "language": "python",
     "metadata": {},
     "outputs": []
    },
    {
     "cell_type": "markdown",
     "metadata": {},
     "source": [
      "This is some text\n",
      "\n",
      "http://nbviewer.ipython.org/github/ipython/ipython/blob/1.x/examples/notebooks/Part%203%20-%20Plotting%20with%20Matplotlib.ipynb"
     ]
    },
    {
     "cell_type": "code",
     "collapsed": false,
     "input": [
      "%matplotlib inline"
     ],
     "language": "python",
     "metadata": {},
     "outputs": [],
     "prompt_number": 4
    },
    {
     "cell_type": "code",
     "collapsed": false,
     "input": [
      "import matplotlib.pyplot as plt\n",
      "import numpy as np"
     ],
     "language": "python",
     "metadata": {},
     "outputs": [],
     "prompt_number": 5
    },
    {
     "cell_type": "code",
     "collapsed": false,
     "input": [
      "x = np.linspace(0, 3*np.pi, 500)\n",
      "plt.plot(x, np.sin(x**2))\n",
      "plt.title('A simple chirp');"
     ],
     "language": "python",
     "metadata": {},
     "outputs": [
      {
       "metadata": {},
       "output_type": "display_data",
       "png": "[encoded data removed]",
       "text": [
        "<matplotlib.figure.Figure at 0xa99d6a0>"
       ]
      }
     ],
     "prompt_number": 6
    },
    {
     "cell_type": "code",
     "collapsed": false,
     "input": [
      "from pprint import pprint\n",
      "M=[[1,2,3],[4,5,6],[7,8,9]]\n",
      "print(M)"
     ],
     "language": "python",
     "metadata": {},
     "outputs": [
      {
       "output_type": "stream",
       "stream": "stdout",
       "text": [
        "[[1, 2, 3], [4, 5, 6], [7, 8, 9]]\n"
       ]
      }
     ],
     "prompt_number": 2
    },
    {
     "cell_type": "code",
     "collapsed": false,
     "input": [
      "pprint(M)"
     ],
     "language": "python",
     "metadata": {},
     "outputs": [
      {
       "output_type": "stream",
       "stream": "stdout",
       "text": [
        "[[1, 2, 3], [4, 5, 6], [7, 8, 9]]\n"
       ]
      }
     ],
     "prompt_number": 3
    },
    {
     "cell_type": "code",
     "collapsed": false,
     "input": [
      "pprint.pprint(M)"
     ],
     "language": "python",
     "metadata": {},
     "outputs": [
      {
       "ename": "AttributeError",
       "evalue": "'function' object has no attribute 'pprint'",
       "output_type": "pyerr",
       "traceback": [
        "\u001b[1;31m---------------------------------------------------------------------------\u001b[0m\n\u001b[1;31mAttributeError\u001b[0m                            Traceback (most recent call last)",
        "\u001b[1;32m<ipython-input-4-9f48c2f79802>\u001b[0m in \u001b[0;36m<module>\u001b[1;34m()\u001b[0m\n\u001b[1;32m----> 1\u001b[1;33m \u001b[0mpprint\u001b[0m\u001b[1;33m.\u001b[0m\u001b[0mpprint\u001b[0m\u001b[1;33m(\u001b[0m\u001b[0mM\u001b[0m\u001b[1;33m)\u001b[0m\u001b[1;33m\u001b[0m\u001b[0m\n\u001b[0m",
        "\u001b[1;31mAttributeError\u001b[0m: 'function' object has no attribute 'pprint'"
       ]
      }
     ],
     "prompt_number": 4
    },
    {
     "cell_type": "code",
     "collapsed": false,
     "input": [
      "import pandas\n"
     ],
     "language": "python",
     "metadata": {},
     "outputs": [],
     "prompt_number": 5
    },
    {
     "cell_type": "code",
     "collapsed": false,
     "input": [
      "pandas.M\n"
     ],
     "language": "python",
     "metadata": {},
     "outputs": [
      {
       "ename": "AttributeError",
       "evalue": "'module' object has no attribute 'M'",
       "output_type": "pyerr",
       "traceback": [
        "\u001b[1;31m---------------------------------------------------------------------------\u001b[0m\n\u001b[1;31mAttributeError\u001b[0m                            Traceback (most recent call last)",
        "\u001b[1;32m<ipython-input-6-33f7ff32b5f8>\u001b[0m in \u001b[0;36m<module>\u001b[1;34m()\u001b[0m\n\u001b[1;32m----> 1\u001b[1;33m \u001b[0mpandas\u001b[0m\u001b[1;33m.\u001b[0m\u001b[0mM\u001b[0m\u001b[1;33m\u001b[0m\u001b[0m\n\u001b[0m",
        "\u001b[1;31mAttributeError\u001b[0m: 'module' object has no attribute 'M'"
       ]
      }
     ],
     "prompt_number": 6
    },
    {
     "cell_type": "code",
     "collapsed": false,
     "input": [
      "for row in M:\n",
      "    print(row)"
     ],
     "language": "python",
     "metadata": {},
     "outputs": [
      {
       "output_type": "stream",
       "stream": "stdout",
       "text": [
        "[1, 2, 3]\n",
        "[4, 5, 6]\n",
        "[7, 8, 9]\n"
       ]
      }
     ],
     "prompt_number": 8
    },
    {
     "cell_type": "code",
     "collapsed": false,
     "input": [
      "sys.version"
     ],
     "language": "python",
     "metadata": {},
     "outputs": [
      {
       "metadata": {},
       "output_type": "pyout",
       "prompt_number": 16,
       "text": [
        "'2.7.6 | 64-bit | (default, Apr 11 2014, 20:31:44) [MSC v.1500 64 bit (AMD64)]'"
       ]
      }
     ],
     "prompt_number": 16
    },
    {
     "cell_type": "markdown",
     "metadata": {},
     "source": [
      "1+1"
     ]
    },
    {
     "cell_type": "markdown",
     "metadata": {},
     "source": [
      "1*pi/4"
     ]
    },
    {
     "cell_type": "code",
     "collapsed": false,
     "input": [
      "which python"
     ],
     "language": "python",
     "metadata": {},
     "outputs": [
      {
       "ename": "SyntaxError",
       "evalue": "invalid syntax (<ipython-input-18-2c530a9741f4>, line 1)",
       "output_type": "pyerr",
       "traceback": [
        "\u001b[1;36m  File \u001b[1;32m\"<ipython-input-18-2c530a9741f4>\"\u001b[1;36m, line \u001b[1;32m1\u001b[0m\n\u001b[1;33m    which python\u001b[0m\n\u001b[1;37m               ^\u001b[0m\n\u001b[1;31mSyntaxError\u001b[0m\u001b[1;31m:\u001b[0m invalid syntax\n"
       ]
      }
     ],
     "prompt_number": 18
    },
    {
     "cell_type": "code",
     "collapsed": false,
     "input": [
      "which ipython"
     ],
     "language": "python",
     "metadata": {},
     "outputs": [
      {
       "ename": "SyntaxError",
       "evalue": "invalid syntax (<ipython-input-19-417fd5e1d1c8>, line 1)",
       "output_type": "pyerr",
       "traceback": [
        "\u001b[1;36m  File \u001b[1;32m\"<ipython-input-19-417fd5e1d1c8>\"\u001b[1;36m, line \u001b[1;32m1\u001b[0m\n\u001b[1;33m    which ipython\u001b[0m\n\u001b[1;37m                ^\u001b[0m\n\u001b[1;31mSyntaxError\u001b[0m\u001b[1;31m:\u001b[0m invalid syntax\n"
       ]
      }
     ],
     "prompt_number": 19
    },
    {
     "cell_type": "code",
     "collapsed": false,
     "input": [
      "\n",
      "from IPython.display import Math\n",
      "Math(r'F(k) = \\int_{-\\infty}^{\\infty} f(x) e^{2\\pi i k} dx')"
     ],
     "language": "python",
     "metadata": {},
     "outputs": [
      {
       "latex": [
        "$$F(k) = \\int_{-\\infty}^{\\infty} f(x) e^{2\\pi i k} dx$$"
       ],
       "metadata": {},
       "output_type": "pyout",
       "prompt_number": 20,
       "text": [
        "<IPython.core.display.Math at 0x8b65320>"
       ]
      }
     ],
     "prompt_number": 20
    }
   ],
   "metadata": {}
  }
 ]
}